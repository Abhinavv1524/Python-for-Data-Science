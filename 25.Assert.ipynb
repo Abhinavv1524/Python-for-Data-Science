{
 "cells": [
  {
   "cell_type": "markdown",
   "metadata": {},
   "source": [
    "### Python assert statement"
   ]
  },
  {
   "cell_type": "code",
   "execution_count": 8,
   "metadata": {},
   "outputs": [],
   "source": [
    "num = 10\n",
    "assert num >= 10"
   ]
  },
  {
   "cell_type": "code",
   "execution_count": 9,
   "metadata": {},
   "outputs": [
    {
     "ename": "AssertionError",
     "evalue": "",
     "output_type": "error",
     "traceback": [
      "\u001b[1;31m---------------------------------------------------------------------------\u001b[0m",
      "\u001b[1;31mAssertionError\u001b[0m                            Traceback (most recent call last)",
      "Cell \u001b[1;32mIn[9], line 1\u001b[0m\n\u001b[1;32m----> 1\u001b[0m \u001b[38;5;28;01massert\u001b[39;00m num \u001b[38;5;241m>\u001b[39m \u001b[38;5;241m10\u001b[39m\n",
      "\u001b[1;31mAssertionError\u001b[0m: "
     ]
    }
   ],
   "source": [
    "assert num > 10"
   ]
  },
  {
   "cell_type": "code",
   "execution_count": 5,
   "metadata": {},
   "outputs": [
    {
     "name": "stdout",
     "output_type": "stream",
     "text": [
      "Please enter even no.\n"
     ]
    },
    {
     "data": {
      "application/javascript": "\n        if (window._pyforest_update_imports_cell) { window._pyforest_update_imports_cell('from sklearn.manifold import TSNE\\nimport matplotlib.pyplot as plt\\nfrom sklearn.decomposition import PCA\\nfrom sklearn.preprocessing import PolynomialFeatures\\nimport torch'); }\n    ",
      "text/plain": [
       "<IPython.core.display.Javascript object>"
      ]
     },
     "metadata": {},
     "output_type": "display_data"
    },
    {
     "data": {
      "application/javascript": "\n        if (window._pyforest_update_imports_cell) { window._pyforest_update_imports_cell('from sklearn.manifold import TSNE\\nimport matplotlib.pyplot as plt\\nfrom sklearn.decomposition import PCA\\nfrom sklearn.preprocessing import PolynomialFeatures\\nimport torch'); }\n    ",
      "text/plain": [
       "<IPython.core.display.Javascript object>"
      ]
     },
     "metadata": {},
     "output_type": "display_data"
    },
    {
     "data": {
      "application/javascript": "\n        if (window._pyforest_update_imports_cell) { window._pyforest_update_imports_cell('from sklearn.manifold import TSNE\\nimport matplotlib.pyplot as plt\\nfrom sklearn.decomposition import PCA\\nfrom sklearn.preprocessing import PolynomialFeatures\\nimport torch'); }\n    ",
      "text/plain": [
       "<IPython.core.display.Javascript object>"
      ]
     },
     "metadata": {},
     "output_type": "display_data"
    },
    {
     "data": {
      "application/javascript": "\n        if (window._pyforest_update_imports_cell) { window._pyforest_update_imports_cell('from sklearn.manifold import TSNE\\nimport matplotlib.pyplot as plt\\nfrom sklearn.decomposition import PCA\\nfrom sklearn.preprocessing import PolynomialFeatures\\nimport torch'); }\n    ",
      "text/plain": [
       "<IPython.core.display.Javascript object>"
      ]
     },
     "metadata": {},
     "output_type": "display_data"
    },
    {
     "data": {
      "application/javascript": "\n        if (window._pyforest_update_imports_cell) { window._pyforest_update_imports_cell('from sklearn.manifold import TSNE\\nimport matplotlib.pyplot as plt\\nfrom sklearn.decomposition import PCA\\nfrom sklearn.preprocessing import PolynomialFeatures\\nimport torch'); }\n    ",
      "text/plain": [
       "<IPython.core.display.Javascript object>"
      ]
     },
     "metadata": {},
     "output_type": "display_data"
    },
    {
     "data": {
      "application/javascript": "\n        if (window._pyforest_update_imports_cell) { window._pyforest_update_imports_cell('from sklearn.manifold import TSNE\\nimport matplotlib.pyplot as plt\\nfrom sklearn.decomposition import PCA\\nfrom sklearn.preprocessing import PolynomialFeatures\\nimport torch'); }\n    ",
      "text/plain": [
       "<IPython.core.display.Javascript object>"
      ]
     },
     "metadata": {},
     "output_type": "display_data"
    },
    {
     "data": {
      "application/javascript": "\n        if (window._pyforest_update_imports_cell) { window._pyforest_update_imports_cell('from sklearn.manifold import TSNE\\nimport matplotlib.pyplot as plt\\nfrom sklearn.decomposition import PCA\\nfrom sklearn.preprocessing import PolynomialFeatures\\nimport torch'); }\n    ",
      "text/plain": [
       "<IPython.core.display.Javascript object>"
      ]
     },
     "metadata": {},
     "output_type": "display_data"
    },
    {
     "data": {
      "application/javascript": "\n        if (window._pyforest_update_imports_cell) { window._pyforest_update_imports_cell('from sklearn.manifold import TSNE\\nimport matplotlib.pyplot as plt\\nfrom sklearn.decomposition import PCA\\nfrom sklearn.preprocessing import PolynomialFeatures\\nimport torch'); }\n    ",
      "text/plain": [
       "<IPython.core.display.Javascript object>"
      ]
     },
     "metadata": {},
     "output_type": "display_data"
    },
    {
     "data": {
      "application/javascript": "\n        if (window._pyforest_update_imports_cell) { window._pyforest_update_imports_cell('from sklearn.manifold import TSNE\\nimport matplotlib.pyplot as plt\\nfrom sklearn.decomposition import PCA\\nfrom sklearn.preprocessing import PolynomialFeatures\\nimport torch'); }\n    ",
      "text/plain": [
       "<IPython.core.display.Javascript object>"
      ]
     },
     "metadata": {},
     "output_type": "display_data"
    },
    {
     "data": {
      "application/javascript": "\n        if (window._pyforest_update_imports_cell) { window._pyforest_update_imports_cell('from sklearn.manifold import TSNE\\nimport matplotlib.pyplot as plt\\nfrom sklearn.decomposition import PCA\\nfrom sklearn.preprocessing import PolynomialFeatures\\nimport torch'); }\n    ",
      "text/plain": [
       "<IPython.core.display.Javascript object>"
      ]
     },
     "metadata": {},
     "output_type": "display_data"
    },
    {
     "data": {
      "application/javascript": "\n        if (window._pyforest_update_imports_cell) { window._pyforest_update_imports_cell('from sklearn.manifold import TSNE\\nimport matplotlib.pyplot as plt\\nfrom sklearn.decomposition import PCA\\nfrom sklearn.preprocessing import PolynomialFeatures\\nimport torch'); }\n    ",
      "text/plain": [
       "<IPython.core.display.Javascript object>"
      ]
     },
     "metadata": {},
     "output_type": "display_data"
    }
   ],
   "source": [
    "try :\n",
    "    num = int(input(\"Enter the number\"))\n",
    "    assert num % 2 == 0\n",
    "    print(\"The number is even\")\n",
    "except AssertionError as e:\n",
    "    print(\"Please enter even no.\")"
   ]
  },
  {
   "cell_type": "code",
   "execution_count": null,
   "metadata": {},
   "outputs": [],
   "source": []
  }
 ],
 "metadata": {
  "kernelspec": {
   "display_name": "Python 3",
   "language": "python",
   "name": "python3"
  },
  "language_info": {
   "codemirror_mode": {
    "name": "ipython",
    "version": 3
   },
   "file_extension": ".py",
   "mimetype": "text/x-python",
   "name": "python",
   "nbconvert_exporter": "python",
   "pygments_lexer": "ipython3",
   "version": "3.12.8"
  }
 },
 "nbformat": 4,
 "nbformat_minor": 2
}
